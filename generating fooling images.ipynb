{
 "cells": [
  {
   "cell_type": "code",
   "execution_count": 1,
   "metadata": {},
   "outputs": [],
   "source": [
    "import tensorflow.keras as keras\n",
    "from tensorflow.keras.datasets import mnist\n",
    "from tensorflow.keras.models import Sequential\n",
    "from tensorflow.keras.layers import Dense, Dropout, Flatten\n",
    "from tensorflow.keras.layers import Conv2D, MaxPooling2D\n",
    "from tensorflow.keras import backend as K\n",
    "from tensorflow.keras.models import load_model\n",
    "import numpy as np\n",
    "from matplotlib import pyplot as plt\n",
    "import random"
   ]
  },
  {
   "cell_type": "code",
   "execution_count": 2,
   "metadata": {},
   "outputs": [],
   "source": [
    "batch_size = 128\n",
    "num_classes = 10\n",
    "epochs = 12\n",
    "\n",
    "# input image dimensions\n",
    "img_rows, img_cols = 28, 28\n",
    "\n",
    "# the data, shuffled and split between train and test sets\n",
    "(x_train, y_train), (x_test, y_test) = mnist.load_data()\n",
    "x_train = x_train / 255\n",
    "x_test = x_test / 255\n",
    "\n",
    "y_orig_train = np.copy(y_train)\n",
    "y_orig_test = np.copy(y_test)\n",
    "y_train = keras.utils.to_categorical(y_train, num_classes)\n",
    "y_test = keras.utils.to_categorical(y_test, num_classes)\n",
    "x_train = x_train.reshape(x_train.shape[0], img_rows, img_cols, 1)\n",
    "x_test = x_test.reshape(x_test.shape[0], img_rows, img_cols, 1)\n",
    "input_shape = (img_rows, img_cols, 1)\n",
    "\n",
    "model = load_model(\"../saved_models/LeNet.h5\")"
   ]
  },
  {
   "cell_type": "code",
   "execution_count": 3,
   "metadata": {},
   "outputs": [
    {
     "name": "stdout",
     "output_type": "stream",
     "text": [
      "(10000, 28, 28, 1)\n"
     ]
    }
   ],
   "source": [
    "print(x_test.shape)"
   ]
  },
  {
   "cell_type": "code",
   "execution_count": 4,
   "metadata": {},
   "outputs": [
    {
     "name": "stdout",
     "output_type": "stream",
     "text": [
      "Test loss: 0.02577946839928336\n",
      "Test accuracy: 0.992\n"
     ]
    }
   ],
   "source": [
    "score = model.evaluate(x_test, y_test, verbose=0)\n",
    "print('Test loss:', score[0])\n",
    "print('Test accuracy:', score[1])"
   ]
  },
  {
   "cell_type": "code",
   "execution_count": 5,
   "metadata": {},
   "outputs": [],
   "source": [
    "def mutation_manager(data, indices):\n",
    "    cols = data.shape[1]\n",
    "    for x in indices:\n",
    "        row_no = int(x / cols)\n",
    "        col_no = x % cols\n",
    "        data[row_no, col_no] = random.uniform(0, 1.0)\n",
    "    return data"
   ]
  },
  {
   "cell_type": "code",
   "execution_count": 6,
   "metadata": {},
   "outputs": [],
   "source": [
    "def roulette_select(population, fitnesses, num):\n",
    "    total_fitness = float(sum(fitnesses))\n",
    "    rel_fitness = [f/total_fitness for f in fitnesses]\n",
    "    # Generate probability intervals for each individual\n",
    "    probs = [sum(rel_fitness[:i+1]) for i in range(len(rel_fitness))]\n",
    "    # Draw new population\n",
    "    new_population = []\n",
    "    for n in range(num):\n",
    "        r = np.random.random()\n",
    "        for (i, individual) in enumerate(population):\n",
    "            if r <= probs[i]:\n",
    "                new_population.append((individual, fitnesses[i]))\n",
    "                break\n",
    "    return new_population"
   ]
  },
  {
   "cell_type": "code",
   "execution_count": 7,
   "metadata": {},
   "outputs": [],
   "source": [
    "def crossover_manager(genome1, genome2):\n",
    "    random_index_to_cut = int(np.random.random() * len(genome1))\n",
    "    new1 = list(genome1[:random_index_to_cut]) + list(genome2[random_index_to_cut:])\n",
    "    new2 = list(genome2[:random_index_to_cut]) + list(genome1[random_index_to_cut:])\n",
    "    \n",
    "    return np.asarray(new1), np.asarray(new2)"
   ]
  },
  {
   "cell_type": "code",
   "execution_count": 8,
   "metadata": {},
   "outputs": [],
   "source": [
    "def genetic_op(data, required_val, mutation_rate, crossover_rate):\n",
    "    # Crossover operation\n",
    "    no_of_crossovers = int(data.shape[0] * crossover_rate)\n",
    "    indices_to_crossover = np.random.choice(data.shape[0], no_of_crossovers, replace=False)\n",
    "    data_to_be_crossover = data[indices_to_crossover]\n",
    "\n",
    "    for x in range(0, len(indices_to_crossover) - 1, 2):\n",
    "        genome1 = data_to_be_crossover[x]\n",
    "        genome2 = data_to_be_crossover[x+1]\n",
    "        ind1 = indices_to_crossover[x]\n",
    "        ind2 = indices_to_crossover[x+1]\n",
    "        new1, new2 = crossover_manager(genome1, genome2)\n",
    "        data[ind1] = new1\n",
    "        data[ind2] = new2\n",
    "    \n",
    "    # Now for the mutation operation\n",
    "    no_of_mutations = int(data.shape[0] * data.shape[1] * mutation_rate)\n",
    "    indices_to_mutate = np.random.choice(data.shape[0] * data.shape[1], no_of_mutations, replace=False)\n",
    "    data = mutation_manager(data, indices_to_mutate)\n",
    "    \n",
    "    # Finally fitness\n",
    "    y = data.reshape(data.shape[0], 28, 28, 1)\n",
    "    r = model.predict(y)\n",
    "    fitness = r[:, required_val]\n",
    "\n",
    "    return data, fitness    "
   ]
  },
  {
   "cell_type": "code",
   "execution_count": 9,
   "metadata": {},
   "outputs": [],
   "source": [
    "def add_noise(img, _):\n",
    "    random_noise = np.minimum(np.maximum(np.random.normal(loc=0, scale=2.5,size=img.shape),0),1)    \n",
    "    return random_noise"
   ]
  },
  {
   "cell_type": "code",
   "execution_count": 11,
   "metadata": {},
   "outputs": [],
   "source": [
    "# First we need to set some parameters for GA\n",
    "def generate_noisy_images(new_num):\n",
    "\n",
    "    init_crossover_rate = 0.015\n",
    "    init_mutation_rate = 0.05\n",
    "    population_size = 50\n",
    "    generations = 200\n",
    "    promotion_rate = 0.1\n",
    "    multiplier = int(1 / promotion_rate)\n",
    "\n",
    "    fit_num = []\n",
    "    # Now for each number we have to create noisy initial population.\n",
    "    try:\n",
    "        for numb in range(10):\n",
    "            mutation_rate = init_mutation_rate\n",
    "            crossover_rate = init_crossover_rate\n",
    "            required_val = numb\n",
    "#             print(\"Now evaluating for number\", required_val)\n",
    "            initial_popl = new_num[numb].reshape(\n",
    "                new_num[numb].shape[0],\n",
    "                new_num[numb].shape[1] * new_num[numb].shape[2]\n",
    "            )\n",
    "            initial_popl = np.tile(initial_popl, (population_size // new_num[numb].shape[0], 1))\n",
    "            prev_popl = [[0, 0]]\n",
    "\n",
    "            for gen in range(generations):\n",
    "                change = False\n",
    "                while not change:\n",
    "                    data, fitness = genetic_op(initial_popl, required_val, crossover_rate, mutation_rate)\n",
    "                    data_with_fitness = zip(data, fitness)\n",
    "                    data_with_fitness = sorted(data_with_fitness, key=lambda x: x[1], reverse=True)\n",
    "\n",
    "                    # Now select the promoted data for the next round\n",
    "                    promotion = data_with_fitness[:int(population_size * promotion_rate)]\n",
    "                    # promotion = roulette_select(list(data), fitness, int(population_size * promotion_rate))\n",
    "\n",
    "                    if prev_popl[0][1] > promotion[0][1]:\n",
    "                        initial_popl = np.asarray([x[0] for x in prev_popl])\n",
    "                    else:\n",
    "                        only_data = [x[0] for x in promotion]\n",
    "                        initial_popl = np.asarray(only_data * multiplier)\n",
    "                        prev_popl = promotion * multiplier\n",
    "                        change = True\n",
    "\n",
    "    #             print(\"Max fitness for gen {} is {}\".format(gen, promotion[0][1]))\n",
    "                if (promotion[0][1] > .1 and gen > 150) or (promotion[0][1] > .9999):\n",
    "#                     print(\"Adding the image to the new array...\")\n",
    "                    fit_num.append(promotion[0][0])\n",
    "                    break\n",
    "        return fit_num\n",
    "    except KeyboardInterrupt:\n",
    "        print(\"GA stopped!\")"
   ]
  },
  {
   "cell_type": "code",
   "execution_count": 12,
   "metadata": {},
   "outputs": [],
   "source": [
    "\"\"\"\n",
    "Now to generate the fooling images, we can start from the scratch.\n",
    "But doing so will take a lot of time. So we decided to start with\n",
    "a population of noisy dataset\n",
    "\"\"\"\n",
    "# First we will split the data\n",
    "num = []\n",
    "\n",
    "for x in range(10):\n",
    "    indices = np.argwhere(y_orig_train == x).reshape((-1,))\n",
    "    num.append(x_train[0:1000])\n",
    "\n",
    "num = np.asarray(num)"
   ]
  },
  {
   "cell_type": "code",
   "execution_count": 13,
   "metadata": {
    "scrolled": false
   },
   "outputs": [
    {
     "name": "stdout",
     "output_type": "stream",
     "text": [
      "第100次\n",
      "第150次\n",
      "第200次\n",
      "第250次\n",
      "第300次\n",
      "第350次\n",
      "第400次\n",
      "第450次\n",
      "第500次\n",
      "第550次\n",
      "第600次\n",
      "第650次\n",
      "第700次\n",
      "第750次\n",
      "第800次\n",
      "第850次\n",
      "第900次\n",
      "第950次\n"
     ]
    }
   ],
   "source": [
    "for j in range(1,10):\n",
    "    all_num = []\n",
    "    for i in range(j*100,(j+1)*100):\n",
    "        new_num = []\n",
    "        for x in range(10):\n",
    "            numbers = num[x][i:i+1]\n",
    "            final_image = np.apply_over_axes(add_noise, numbers, [0])\n",
    "    #         plt.imshow(final_image.squeeze(),'gray')\n",
    "    #         plt.show()\n",
    "            new_num.append(final_image)\n",
    "        new_num = np.asarray(new_num)\n",
    "        fit_num = generate_noisy_images(new_num)\n",
    "        if i % 50 == 0:\n",
    "            print('第{}次'.format(i))\n",
    "        all_num.append(fit_num)\n",
    "\n",
    "    aa = np.array(all_num)\n",
    "    irregular = aa.reshape(aa.shape[0]*aa.shape[1],28,28,1)\n",
    "    np.save(\"mnist_fooling_images%s.npy\"%(j), irregular)"
   ]
  },
  {
   "cell_type": "code",
   "execution_count": null,
   "metadata": {},
   "outputs": [],
   "source": []
  }
 ],
 "metadata": {
  "kernelspec": {
   "display_name": "tf-gpu2",
   "language": "python",
   "name": "tf-gpu2"
  },
  "language_info": {
   "codemirror_mode": {
    "name": "ipython",
    "version": 3
   },
   "file_extension": ".py",
   "mimetype": "text/x-python",
   "name": "python",
   "nbconvert_exporter": "python",
   "pygments_lexer": "ipython3",
   "version": "3.6.9"
  }
 },
 "nbformat": 4,
 "nbformat_minor": 2
}

{
 "cells": [
  {
   "cell_type": "code",
   "execution_count": 1,
   "metadata": {},
   "outputs": [],
   "source": [
    "import numpy as np\n",
    "import os\n",
    "import matplotlib.pyplot as plt\n",
    "from tensorflow.keras.models import Model\n",
    "from utility import calculate_input_gradients, perturb_inputs, preprocess_images, \\\n",
    "                    extract_features, postprocess_features, save_data_hdf5, get_dataset_hdf5, \\\n",
    "                    build_one_class_svm, combine_inliners_outliers, extract_all_features,\\\n",
    "                    extract_layer_features\n",
    "from utility_db_outliers import load_dataset\n",
    "from models_lib import load_custom_model_for_ds\n",
    "import h5py\n",
    "from general_setting import *\n",
    "from metrics import *\n",
    "from matplotlib.ticker import FuncFormatter\n",
    "from tensorflow.keras.models import load_model\n",
    "from tensorflow.keras.utils import to_categorical\n",
    "import scipy.io as sio"
   ]
  },
  {
   "cell_type": "code",
   "execution_count": 14,
   "metadata": {},
   "outputs": [
    {
     "name": "stdout",
     "output_type": "stream",
     "text": [
      "CIFAR10 -> ResNet\n"
     ]
    }
   ],
   "source": [
    "FEA_LOC=\"./features/\"     #The folder in which extracted features are saved.\n",
    "if not os.path.isdir(FEA_LOC): os.makedirs(FEA_LOC)\n",
    "BATCH_SIZE = 1000\n",
    "id_name=ID_DS_LIST[1]     # selects the ID dataset.\n",
    "id_model=ID_MODEL_LIST[2] # select the deep model used for training ID dataset.\n",
    "print(id_name,\"->\", id_model)"
   ]
  },
  {
   "cell_type": "code",
   "execution_count": 15,
   "metadata": {},
   "outputs": [],
   "source": [
    "# We specified the index of layers for several architectures we explored in our experiement.\n",
    "# you can make it to be done automatically or chane the index to suit your architecture.\n",
    "\n",
    "if id_name==\"MNIST\" and id_model==\"LeNet\":\n",
    "    OOD_DS_LIST       = OOD_DS_LIST_MNIST\n",
    "    slc_layers     = (0,1,2,3,6,7,8)\n",
    "    #**********************************************************\n",
    "elif id_name==\"CIFAR10\":\n",
    "    OOD_DS_LIST       = OOD_DS_LIST_CIFAR10\n",
    "    if id_model==\"VGG\":\n",
    "        slc_layers = (0,3,5,6,9,11,12,15,18,20,21,24,27,30,33,36,38)\n",
    "    elif id_model==\"ResNet\":\n",
    "        slc_layers = (3,6,10,13,17,20,24,27,31,34,38,41,45,48,52,55,60,63,67,70,74,77,81,84,88,91,95,98,102,105,110,113,117,120,124,127,131,134,138,141,145,148,152)        \n",
    "    #**********************************************************\n",
    "elif id_name==\"SVHN\":\n",
    "    OOD_DS_LIST       = OOD_DS_LIST_CIFAR10\n",
    "    if id_model==\"VGG\":\n",
    "        slc_layers = (0,3,5,6,9,11,12,15,18,20,21,24,27,30,33,36,38)\n",
    "    elif id_model==\"ResNet\":\n",
    "        slc_layers = (3,6,10,13,17,20,24,27,32,35,39,42,46,49,54,57,61,64,68)        \n",
    "    #**********************************************************"
   ]
  },
  {
   "cell_type": "code",
   "execution_count": 16,
   "metadata": {},
   "outputs": [
    {
     "name": "stdout",
     "output_type": "stream",
     "text": [
      "The ResNet-V1-44 model for CIFAR10 was loaded.\n"
     ]
    }
   ],
   "source": [
    "model = load_custom_model_for_ds(id_name, id_model)\n",
    "# model.summary()"
   ]
  },
  {
   "cell_type": "code",
   "execution_count": 17,
   "metadata": {},
   "outputs": [
    {
     "name": "stderr",
     "output_type": "stream",
     "text": [
      "D:\\software\\Anaconda\\envs\\tf-gpu2\\lib\\site-packages\\numpy\\core\\_asarray.py:83: VisibleDeprecationWarning: Creating an ndarray from ragged nested sequences (which is a list-or-tuple of lists-or-tuples-or ndarrays with different lengths or shapes) is deprecated. If you meant to do this, you must specify 'dtype=object' when creating the ndarray\n",
      "  return array(a, dtype, copy=False, order=order)\n"
     ]
    },
    {
     "name": "stdout",
     "output_type": "stream",
     "text": [
      "Preprocessing was done for  CIFAR10 ResNet\n",
      "Preprocessing was done for  CIFAR10 ResNet\n"
     ]
    }
   ],
   "source": [
    "(train_images,_),(test_images, y_test) = load_dataset(id_name)\n",
    "train_img_processed=preprocess_images(id_name, train_images, id_model, verbose=True)\n",
    "test_img_processed=preprocess_images(id_name, test_images, id_model, verbose=True)"
   ]
  },
  {
   "cell_type": "code",
   "execution_count": 18,
   "metadata": {},
   "outputs": [
    {
     "name": "stdout",
     "output_type": "stream",
     "text": [
      "10000/10000 [==============================] - 14s 1ms/sample - loss: 0.4968 - accuracy: 0.9165\n",
      "[0.49680973229408265, 0.9165]\n"
     ]
    }
   ],
   "source": [
    "y_test=to_categorical(y_test, 10)\n",
    "sc = model.evaluate(test_img_processed, y_test)\n",
    "print(sc)"
   ]
  },
  {
   "cell_type": "code",
   "execution_count": 19,
   "metadata": {
    "scrolled": true
   },
   "outputs": [
    {
     "name": "stdout",
     "output_type": "stream",
     "text": [
      "Extracting features for the training set\n",
      "The featurs of layer 3 was saved. The shape of saved features is (50000, 16)\n",
      "The featurs of layer 6 was saved. The shape of saved features is (50000, 16)\n",
      "The featurs of layer 10 was saved. The shape of saved features is (50000, 16)\n",
      "The featurs of layer 13 was saved. The shape of saved features is (50000, 16)\n",
      "The featurs of layer 17 was saved. The shape of saved features is (50000, 16)\n",
      "The featurs of layer 20 was saved. The shape of saved features is (50000, 16)\n",
      "The featurs of layer 24 was saved. The shape of saved features is (50000, 16)\n",
      "The featurs of layer 27 was saved. The shape of saved features is (50000, 16)\n",
      "The featurs of layer 31 was saved. The shape of saved features is (50000, 16)\n",
      "The featurs of layer 34 was saved. The shape of saved features is (50000, 16)\n",
      "The featurs of layer 38 was saved. The shape of saved features is (50000, 16)\n",
      "The featurs of layer 41 was saved. The shape of saved features is (50000, 16)\n",
      "The featurs of layer 45 was saved. The shape of saved features is (50000, 16)\n",
      "The featurs of layer 48 was saved. The shape of saved features is (50000, 16)\n",
      "The featurs of layer 52 was saved. The shape of saved features is (50000, 16)\n",
      "The featurs of layer 55 was saved. The shape of saved features is (50000, 32)\n",
      "The featurs of layer 60 was saved. The shape of saved features is (50000, 32)\n",
      "The featurs of layer 63 was saved. The shape of saved features is (50000, 32)\n",
      "The featurs of layer 67 was saved. The shape of saved features is (50000, 32)\n",
      "The featurs of layer 70 was saved. The shape of saved features is (50000, 32)\n",
      "The featurs of layer 74 was saved. The shape of saved features is (50000, 32)\n",
      "The featurs of layer 77 was saved. The shape of saved features is (50000, 32)\n",
      "The featurs of layer 81 was saved. The shape of saved features is (50000, 32)\n",
      "The featurs of layer 84 was saved. The shape of saved features is (50000, 32)\n",
      "The featurs of layer 88 was saved. The shape of saved features is (50000, 32)\n",
      "The featurs of layer 91 was saved. The shape of saved features is (50000, 32)\n",
      "The featurs of layer 95 was saved. The shape of saved features is (50000, 32)\n",
      "The featurs of layer 98 was saved. The shape of saved features is (50000, 32)\n",
      "The featurs of layer 102 was saved. The shape of saved features is (50000, 32)\n",
      "The featurs of layer 105 was saved. The shape of saved features is (50000, 64)\n",
      "The featurs of layer 110 was saved. The shape of saved features is (50000, 64)\n",
      "The featurs of layer 113 was saved. The shape of saved features is (50000, 64)\n",
      "The featurs of layer 117 was saved. The shape of saved features is (50000, 64)\n",
      "The featurs of layer 120 was saved. The shape of saved features is (50000, 64)\n",
      "The featurs of layer 124 was saved. The shape of saved features is (50000, 64)\n",
      "The featurs of layer 127 was saved. The shape of saved features is (50000, 64)\n",
      "The featurs of layer 131 was saved. The shape of saved features is (50000, 64)\n",
      "The featurs of layer 134 was saved. The shape of saved features is (50000, 64)\n",
      "The featurs of layer 138 was saved. The shape of saved features is (50000, 64)\n",
      "The featurs of layer 141 was saved. The shape of saved features is (50000, 64)\n",
      "The featurs of layer 145 was saved. The shape of saved features is (50000, 64)\n",
      "The featurs of layer 148 was saved. The shape of saved features is (50000, 64)\n",
      "The featurs of layer 152 was saved. The shape of saved features is (50000, 64)\n",
      "Extracting features for the test set\n",
      "The featurs of layer 3 was saved. The shape of saved features is (10000, 16)\n",
      "The featurs of layer 6 was saved. The shape of saved features is (10000, 16)\n",
      "The featurs of layer 10 was saved. The shape of saved features is (10000, 16)\n",
      "The featurs of layer 13 was saved. The shape of saved features is (10000, 16)\n",
      "The featurs of layer 17 was saved. The shape of saved features is (10000, 16)\n",
      "The featurs of layer 20 was saved. The shape of saved features is (10000, 16)\n",
      "The featurs of layer 24 was saved. The shape of saved features is (10000, 16)\n",
      "The featurs of layer 27 was saved. The shape of saved features is (10000, 16)\n",
      "The featurs of layer 31 was saved. The shape of saved features is (10000, 16)\n",
      "The featurs of layer 34 was saved. The shape of saved features is (10000, 16)\n",
      "The featurs of layer 38 was saved. The shape of saved features is (10000, 16)\n",
      "The featurs of layer 41 was saved. The shape of saved features is (10000, 16)\n",
      "The featurs of layer 45 was saved. The shape of saved features is (10000, 16)\n",
      "The featurs of layer 48 was saved. The shape of saved features is (10000, 16)\n",
      "The featurs of layer 52 was saved. The shape of saved features is (10000, 16)\n",
      "The featurs of layer 55 was saved. The shape of saved features is (10000, 32)\n",
      "The featurs of layer 60 was saved. The shape of saved features is (10000, 32)\n",
      "The featurs of layer 63 was saved. The shape of saved features is (10000, 32)\n",
      "The featurs of layer 67 was saved. The shape of saved features is (10000, 32)\n",
      "The featurs of layer 70 was saved. The shape of saved features is (10000, 32)\n",
      "The featurs of layer 74 was saved. The shape of saved features is (10000, 32)\n",
      "The featurs of layer 77 was saved. The shape of saved features is (10000, 32)\n",
      "The featurs of layer 81 was saved. The shape of saved features is (10000, 32)\n",
      "The featurs of layer 84 was saved. The shape of saved features is (10000, 32)\n",
      "The featurs of layer 88 was saved. The shape of saved features is (10000, 32)\n",
      "The featurs of layer 91 was saved. The shape of saved features is (10000, 32)\n",
      "The featurs of layer 95 was saved. The shape of saved features is (10000, 32)\n",
      "The featurs of layer 98 was saved. The shape of saved features is (10000, 32)\n",
      "The featurs of layer 102 was saved. The shape of saved features is (10000, 32)\n",
      "The featurs of layer 105 was saved. The shape of saved features is (10000, 64)\n",
      "The featurs of layer 110 was saved. The shape of saved features is (10000, 64)\n",
      "The featurs of layer 113 was saved. The shape of saved features is (10000, 64)\n",
      "The featurs of layer 117 was saved. The shape of saved features is (10000, 64)\n",
      "The featurs of layer 120 was saved. The shape of saved features is (10000, 64)\n",
      "The featurs of layer 124 was saved. The shape of saved features is (10000, 64)\n",
      "The featurs of layer 127 was saved. The shape of saved features is (10000, 64)\n",
      "The featurs of layer 131 was saved. The shape of saved features is (10000, 64)\n",
      "The featurs of layer 134 was saved. The shape of saved features is (10000, 64)\n",
      "The featurs of layer 138 was saved. The shape of saved features is (10000, 64)\n",
      "The featurs of layer 141 was saved. The shape of saved features is (10000, 64)\n",
      "The featurs of layer 145 was saved. The shape of saved features is (10000, 64)\n",
      "The featurs of layer 148 was saved. The shape of saved features is (10000, 64)\n",
      "The featurs of layer 152 was saved. The shape of saved features is (10000, 64)\n"
     ]
    }
   ],
   "source": [
    "# id_model = 'newood'\n",
    "base_address=FEA_LOC+\"/\"+id_name+\"-\"+id_model+\"/\"\n",
    "if not os.path.isdir(base_address): os.makedirs(base_address)\n",
    "\n",
    "file_address_train =base_address+\"TRAIN\"\n",
    "if not os.path.isfile(file_address_train+\".hdf5\"):\n",
    "    print(\"Extracting features for the training set\")\n",
    "    extract_all_features(model, train_img_processed, slc_layers, BATCH_SIZE, file_address_train)\n",
    "     \n",
    "else:\n",
    "    print(\"The train set features are available.\") \n",
    "    \n",
    "file_address_test =base_address+\"TEST\"\n",
    "if not os.path.isfile(file_address_test+\".hdf5\"):\n",
    "    print(\"Extracting features for the test set\")\n",
    "    extract_all_features(model, test_img_processed, slc_layers, BATCH_SIZE, file_address_test)\n",
    "else:\n",
    "    print(\"The test set features are available.\")"
   ]
  },
  {
   "cell_type": "code",
   "execution_count": 20,
   "metadata": {},
   "outputs": [
    {
     "name": "stdout",
     "output_type": "stream",
     "text": [
      "The name of OOD dataset is TINYIMAGENET_RESIZED_32\n"
     ]
    }
   ],
   "source": [
    "ood_ds_name = OOD_DS_LIST[0] # selects the OOD dataset used for finding the OODL.\n",
    "print(\"The name of OOD dataset is \"+ ood_ds_name)"
   ]
  },
  {
   "cell_type": "code",
   "execution_count": 21,
   "metadata": {
    "scrolled": true
   },
   "outputs": [
    {
     "name": "stdout",
     "output_type": "stream",
     "text": [
      "Preprocessing was done for  CIFAR10 ResNet\n",
      "Extracting features for the OOD datasets\n",
      "The featurs of layer 3 was saved. The shape of saved features is (10000, 16)\n",
      "The featurs of layer 6 was saved. The shape of saved features is (10000, 16)\n",
      "The featurs of layer 10 was saved. The shape of saved features is (10000, 16)\n",
      "The featurs of layer 13 was saved. The shape of saved features is (10000, 16)\n",
      "The featurs of layer 17 was saved. The shape of saved features is (10000, 16)\n",
      "The featurs of layer 20 was saved. The shape of saved features is (10000, 16)\n",
      "The featurs of layer 24 was saved. The shape of saved features is (10000, 16)\n",
      "The featurs of layer 27 was saved. The shape of saved features is (10000, 16)\n",
      "The featurs of layer 31 was saved. The shape of saved features is (10000, 16)\n",
      "The featurs of layer 34 was saved. The shape of saved features is (10000, 16)\n",
      "The featurs of layer 38 was saved. The shape of saved features is (10000, 16)\n",
      "The featurs of layer 41 was saved. The shape of saved features is (10000, 16)\n",
      "The featurs of layer 45 was saved. The shape of saved features is (10000, 16)\n",
      "The featurs of layer 48 was saved. The shape of saved features is (10000, 16)\n",
      "The featurs of layer 52 was saved. The shape of saved features is (10000, 16)\n",
      "The featurs of layer 55 was saved. The shape of saved features is (10000, 32)\n",
      "The featurs of layer 60 was saved. The shape of saved features is (10000, 32)\n",
      "The featurs of layer 63 was saved. The shape of saved features is (10000, 32)\n",
      "The featurs of layer 67 was saved. The shape of saved features is (10000, 32)\n",
      "The featurs of layer 70 was saved. The shape of saved features is (10000, 32)\n",
      "The featurs of layer 74 was saved. The shape of saved features is (10000, 32)\n",
      "The featurs of layer 77 was saved. The shape of saved features is (10000, 32)\n",
      "The featurs of layer 81 was saved. The shape of saved features is (10000, 32)\n",
      "The featurs of layer 84 was saved. The shape of saved features is (10000, 32)\n",
      "The featurs of layer 88 was saved. The shape of saved features is (10000, 32)\n",
      "The featurs of layer 91 was saved. The shape of saved features is (10000, 32)\n",
      "The featurs of layer 95 was saved. The shape of saved features is (10000, 32)\n",
      "The featurs of layer 98 was saved. The shape of saved features is (10000, 32)\n",
      "The featurs of layer 102 was saved. The shape of saved features is (10000, 32)\n",
      "The featurs of layer 105 was saved. The shape of saved features is (10000, 64)\n",
      "The featurs of layer 110 was saved. The shape of saved features is (10000, 64)\n",
      "The featurs of layer 113 was saved. The shape of saved features is (10000, 64)\n",
      "The featurs of layer 117 was saved. The shape of saved features is (10000, 64)\n",
      "The featurs of layer 120 was saved. The shape of saved features is (10000, 64)\n",
      "The featurs of layer 124 was saved. The shape of saved features is (10000, 64)\n",
      "The featurs of layer 127 was saved. The shape of saved features is (10000, 64)\n",
      "The featurs of layer 131 was saved. The shape of saved features is (10000, 64)\n",
      "The featurs of layer 134 was saved. The shape of saved features is (10000, 64)\n",
      "The featurs of layer 138 was saved. The shape of saved features is (10000, 64)\n",
      "The featurs of layer 141 was saved. The shape of saved features is (10000, 64)\n",
      "The featurs of layer 145 was saved. The shape of saved features is (10000, 64)\n",
      "The featurs of layer 148 was saved. The shape of saved features is (10000, 64)\n",
      "The featurs of layer 152 was saved. The shape of saved features is (10000, 64)\n"
     ]
    }
   ],
   "source": [
    "(_,_),(outlier_data, _) = load_dataset(ood_ds_name)\n",
    "outlier_data_processed = preprocess_images(id_name, outlier_data, id_model, verbose=True)\n",
    "file_address_ood =base_address+ood_ds_name\n",
    "if not os.path.isfile(file_address_ood+\".hdf5\"):\n",
    "    print(\"Extracting features for the OOD datasets\")\n",
    "    extract_all_features(model, outlier_data_processed, slc_layers, BATCH_SIZE, file_address_ood)\n",
    "else:\n",
    "    print(\"The OOD set features are available.\")"
   ]
  },
  {
   "cell_type": "code",
   "execution_count": 22,
   "metadata": {},
   "outputs": [],
   "source": [
    "from sklearn.metrics import roc_auc_score"
   ]
  },
  {
   "cell_type": "code",
   "execution_count": 23,
   "metadata": {},
   "outputs": [],
   "source": [
    "def fpr_at_95_tpr(scores, labels):\n",
    "    sc = scores\n",
    "    lens = int(scores.shape[0] / 2)\n",
    "    recall_point =0.95\n",
    "    labels1 = np.asarray(labels[0:lens])\n",
    "    scores1 = np.asarray(scores[0:lens])         \n",
    "    sorted_scores = sorted(scores1,reverse=True) \n",
    "    n_thresh = recall_point * lens\n",
    "    FP = 0\n",
    "    TN = 0\n",
    "    for i in range(lens,scores.shape[0]):\n",
    "        if (sc[i]>=sorted_scores[int(n_thresh)-1]):\n",
    "             FP += 1\n",
    "        else:\n",
    "            TN += 1    \n",
    "    TP = 0\n",
    "    FN = 0\n",
    "    for i in range(lens):\n",
    "        if (sc[i]>=sorted_scores[int(n_thresh)-1]):\n",
    "             TP += 1\n",
    "        else:\n",
    "            FN += 1\n",
    "    fpr =float(FP) / float(FP + TN+ 1e-7)\n",
    "    return fpr\n",
    "\n",
    "\n",
    "def detection_error(scores, labels):\n",
    "    sc = scores\n",
    "    lens = int(scores.shape[0] / 2)\n",
    "    recall_point =0.95\n",
    "    labels1 = np.asarray(labels[0:lens])\n",
    "    scores1 = np.asarray(scores[0:lens])\n",
    "    sorted_scores = sorted(scores1,reverse=True) \n",
    "    n_thresh = recall_point * lens\n",
    "    FP = 0\n",
    "    TN = 0\n",
    "    for i in range(lens,scores.shape[0]):\n",
    "        if (sc[i]>=sorted_scores[int(n_thresh)-1]):\n",
    "             FP += 1\n",
    "        else:\n",
    "            TN += 1    \n",
    "    TP = 0\n",
    "    FN = 0\n",
    "    for i in range(lens):\n",
    "        if (sc[i]>=sorted_scores[int(n_thresh)-1]):\n",
    "             TP += 1\n",
    "        else:\n",
    "            FN += 1\n",
    " \n",
    "    _detection_error = (1.0- float(TP) / float(TP + FN+ 1e-7)+ float(FP) / float(FP + TN+ 1e-7))/2\n",
    "    return _detection_error"
   ]
  },
  {
   "cell_type": "code",
   "execution_count": 24,
   "metadata": {},
   "outputs": [
    {
     "name": "stdout",
     "output_type": "stream",
     "text": [
      "3 / (3, 6, 10, 13, 17, 20, 24, 27, 31, 34, 38, 41, 45, 48, 52, 55, 60, 63, 67, 70, 74, 77, 81, 84, 88, 91, 95, 98, 102, 105, 110, 113, 117, 120, 124, 127, 131, 134, 138, 141, 145, 148, 152)\n",
      "The number of errors for the ID dataset 1044\n",
      "The number of errors for the OOD dataset 6288\n",
      "6 / (3, 6, 10, 13, 17, 20, 24, 27, 31, 34, 38, 41, 45, 48, 52, 55, 60, 63, 67, 70, 74, 77, 81, 84, 88, 91, 95, 98, 102, 105, 110, 113, 117, 120, 124, 127, 131, 134, 138, 141, 145, 148, 152)\n",
      "The number of errors for the ID dataset 1014\n",
      "The number of errors for the OOD dataset 2059\n",
      "10 / (3, 6, 10, 13, 17, 20, 24, 27, 31, 34, 38, 41, 45, 48, 52, 55, 60, 63, 67, 70, 74, 77, 81, 84, 88, 91, 95, 98, 102, 105, 110, 113, 117, 120, 124, 127, 131, 134, 138, 141, 145, 148, 152)\n",
      "The number of errors for the ID dataset 1005\n",
      "The number of errors for the OOD dataset 763\n",
      "13 / (3, 6, 10, 13, 17, 20, 24, 27, 31, 34, 38, 41, 45, 48, 52, 55, 60, 63, 67, 70, 74, 77, 81, 84, 88, 91, 95, 98, 102, 105, 110, 113, 117, 120, 124, 127, 131, 134, 138, 141, 145, 148, 152)\n",
      "The number of errors for the ID dataset 1007\n",
      "The number of errors for the OOD dataset 624\n",
      "17 / (3, 6, 10, 13, 17, 20, 24, 27, 31, 34, 38, 41, 45, 48, 52, 55, 60, 63, 67, 70, 74, 77, 81, 84, 88, 91, 95, 98, 102, 105, 110, 113, 117, 120, 124, 127, 131, 134, 138, 141, 145, 148, 152)\n",
      "The number of errors for the ID dataset 973\n",
      "The number of errors for the OOD dataset 675\n",
      "20 / (3, 6, 10, 13, 17, 20, 24, 27, 31, 34, 38, 41, 45, 48, 52, 55, 60, 63, 67, 70, 74, 77, 81, 84, 88, 91, 95, 98, 102, 105, 110, 113, 117, 120, 124, 127, 131, 134, 138, 141, 145, 148, 152)\n",
      "The number of errors for the ID dataset 949\n",
      "The number of errors for the OOD dataset 274\n",
      "24 / (3, 6, 10, 13, 17, 20, 24, 27, 31, 34, 38, 41, 45, 48, 52, 55, 60, 63, 67, 70, 74, 77, 81, 84, 88, 91, 95, 98, 102, 105, 110, 113, 117, 120, 124, 127, 131, 134, 138, 141, 145, 148, 152)\n",
      "The number of errors for the ID dataset 928\n",
      "The number of errors for the OOD dataset 846\n",
      "27 / (3, 6, 10, 13, 17, 20, 24, 27, 31, 34, 38, 41, 45, 48, 52, 55, 60, 63, 67, 70, 74, 77, 81, 84, 88, 91, 95, 98, 102, 105, 110, 113, 117, 120, 124, 127, 131, 134, 138, 141, 145, 148, 152)\n",
      "The number of errors for the ID dataset 972\n",
      "The number of errors for the OOD dataset 1386\n",
      "31 / (3, 6, 10, 13, 17, 20, 24, 27, 31, 34, 38, 41, 45, 48, 52, 55, 60, 63, 67, 70, 74, 77, 81, 84, 88, 91, 95, 98, 102, 105, 110, 113, 117, 120, 124, 127, 131, 134, 138, 141, 145, 148, 152)\n",
      "The number of errors for the ID dataset 930\n",
      "The number of errors for the OOD dataset 1467\n",
      "34 / (3, 6, 10, 13, 17, 20, 24, 27, 31, 34, 38, 41, 45, 48, 52, 55, 60, 63, 67, 70, 74, 77, 81, 84, 88, 91, 95, 98, 102, 105, 110, 113, 117, 120, 124, 127, 131, 134, 138, 141, 145, 148, 152)\n",
      "The number of errors for the ID dataset 1009\n",
      "The number of errors for the OOD dataset 1349\n",
      "38 / (3, 6, 10, 13, 17, 20, 24, 27, 31, 34, 38, 41, 45, 48, 52, 55, 60, 63, 67, 70, 74, 77, 81, 84, 88, 91, 95, 98, 102, 105, 110, 113, 117, 120, 124, 127, 131, 134, 138, 141, 145, 148, 152)\n",
      "The number of errors for the ID dataset 967\n",
      "The number of errors for the OOD dataset 1422\n",
      "41 / (3, 6, 10, 13, 17, 20, 24, 27, 31, 34, 38, 41, 45, 48, 52, 55, 60, 63, 67, 70, 74, 77, 81, 84, 88, 91, 95, 98, 102, 105, 110, 113, 117, 120, 124, 127, 131, 134, 138, 141, 145, 148, 152)\n",
      "The number of errors for the ID dataset 998\n",
      "The number of errors for the OOD dataset 1910\n",
      "45 / (3, 6, 10, 13, 17, 20, 24, 27, 31, 34, 38, 41, 45, 48, 52, 55, 60, 63, 67, 70, 74, 77, 81, 84, 88, 91, 95, 98, 102, 105, 110, 113, 117, 120, 124, 127, 131, 134, 138, 141, 145, 148, 152)\n",
      "The number of errors for the ID dataset 965\n",
      "The number of errors for the OOD dataset 1928\n",
      "48 / (3, 6, 10, 13, 17, 20, 24, 27, 31, 34, 38, 41, 45, 48, 52, 55, 60, 63, 67, 70, 74, 77, 81, 84, 88, 91, 95, 98, 102, 105, 110, 113, 117, 120, 124, 127, 131, 134, 138, 141, 145, 148, 152)\n",
      "The number of errors for the ID dataset 1022\n",
      "The number of errors for the OOD dataset 3276\n",
      "52 / (3, 6, 10, 13, 17, 20, 24, 27, 31, 34, 38, 41, 45, 48, 52, 55, 60, 63, 67, 70, 74, 77, 81, 84, 88, 91, 95, 98, 102, 105, 110, 113, 117, 120, 124, 127, 131, 134, 138, 141, 145, 148, 152)\n",
      "The number of errors for the ID dataset 969\n",
      "The number of errors for the OOD dataset 2393\n",
      "55 / (3, 6, 10, 13, 17, 20, 24, 27, 31, 34, 38, 41, 45, 48, 52, 55, 60, 63, 67, 70, 74, 77, 81, 84, 88, 91, 95, 98, 102, 105, 110, 113, 117, 120, 124, 127, 131, 134, 138, 141, 145, 148, 152)\n",
      "The number of errors for the ID dataset 942\n",
      "The number of errors for the OOD dataset 1019\n",
      "60 / (3, 6, 10, 13, 17, 20, 24, 27, 31, 34, 38, 41, 45, 48, 52, 55, 60, 63, 67, 70, 74, 77, 81, 84, 88, 91, 95, 98, 102, 105, 110, 113, 117, 120, 124, 127, 131, 134, 138, 141, 145, 148, 152)\n",
      "The number of errors for the ID dataset 954\n",
      "The number of errors for the OOD dataset 1139\n",
      "63 / (3, 6, 10, 13, 17, 20, 24, 27, 31, 34, 38, 41, 45, 48, 52, 55, 60, 63, 67, 70, 74, 77, 81, 84, 88, 91, 95, 98, 102, 105, 110, 113, 117, 120, 124, 127, 131, 134, 138, 141, 145, 148, 152)\n",
      "The number of errors for the ID dataset 958\n",
      "The number of errors for the OOD dataset 3423\n",
      "67 / (3, 6, 10, 13, 17, 20, 24, 27, 31, 34, 38, 41, 45, 48, 52, 55, 60, 63, 67, 70, 74, 77, 81, 84, 88, 91, 95, 98, 102, 105, 110, 113, 117, 120, 124, 127, 131, 134, 138, 141, 145, 148, 152)\n",
      "The number of errors for the ID dataset 965\n",
      "The number of errors for the OOD dataset 2787\n",
      "70 / (3, 6, 10, 13, 17, 20, 24, 27, 31, 34, 38, 41, 45, 48, 52, 55, 60, 63, 67, 70, 74, 77, 81, 84, 88, 91, 95, 98, 102, 105, 110, 113, 117, 120, 124, 127, 131, 134, 138, 141, 145, 148, 152)\n",
      "The number of errors for the ID dataset 992\n",
      "The number of errors for the OOD dataset 5457\n",
      "74 / (3, 6, 10, 13, 17, 20, 24, 27, 31, 34, 38, 41, 45, 48, 52, 55, 60, 63, 67, 70, 74, 77, 81, 84, 88, 91, 95, 98, 102, 105, 110, 113, 117, 120, 124, 127, 131, 134, 138, 141, 145, 148, 152)\n",
      "The number of errors for the ID dataset 968\n",
      "The number of errors for the OOD dataset 3049\n",
      "77 / (3, 6, 10, 13, 17, 20, 24, 27, 31, 34, 38, 41, 45, 48, 52, 55, 60, 63, 67, 70, 74, 77, 81, 84, 88, 91, 95, 98, 102, 105, 110, 113, 117, 120, 124, 127, 131, 134, 138, 141, 145, 148, 152)\n",
      "The number of errors for the ID dataset 1025\n",
      "The number of errors for the OOD dataset 5869\n",
      "81 / (3, 6, 10, 13, 17, 20, 24, 27, 31, 34, 38, 41, 45, 48, 52, 55, 60, 63, 67, 70, 74, 77, 81, 84, 88, 91, 95, 98, 102, 105, 110, 113, 117, 120, 124, 127, 131, 134, 138, 141, 145, 148, 152)\n",
      "The number of errors for the ID dataset 948\n",
      "The number of errors for the OOD dataset 3162\n",
      "84 / (3, 6, 10, 13, 17, 20, 24, 27, 31, 34, 38, 41, 45, 48, 52, 55, 60, 63, 67, 70, 74, 77, 81, 84, 88, 91, 95, 98, 102, 105, 110, 113, 117, 120, 124, 127, 131, 134, 138, 141, 145, 148, 152)\n",
      "The number of errors for the ID dataset 956\n",
      "The number of errors for the OOD dataset 5407\n",
      "88 / (3, 6, 10, 13, 17, 20, 24, 27, 31, 34, 38, 41, 45, 48, 52, 55, 60, 63, 67, 70, 74, 77, 81, 84, 88, 91, 95, 98, 102, 105, 110, 113, 117, 120, 124, 127, 131, 134, 138, 141, 145, 148, 152)\n",
      "The number of errors for the ID dataset 956\n",
      "The number of errors for the OOD dataset 3143\n",
      "91 / (3, 6, 10, 13, 17, 20, 24, 27, 31, 34, 38, 41, 45, 48, 52, 55, 60, 63, 67, 70, 74, 77, 81, 84, 88, 91, 95, 98, 102, 105, 110, 113, 117, 120, 124, 127, 131, 134, 138, 141, 145, 148, 152)\n",
      "The number of errors for the ID dataset 1011\n",
      "The number of errors for the OOD dataset 6973\n",
      "95 / (3, 6, 10, 13, 17, 20, 24, 27, 31, 34, 38, 41, 45, 48, 52, 55, 60, 63, 67, 70, 74, 77, 81, 84, 88, 91, 95, 98, 102, 105, 110, 113, 117, 120, 124, 127, 131, 134, 138, 141, 145, 148, 152)\n",
      "The number of errors for the ID dataset 982\n",
      "The number of errors for the OOD dataset 3252\n",
      "98 / (3, 6, 10, 13, 17, 20, 24, 27, 31, 34, 38, 41, 45, 48, 52, 55, 60, 63, 67, 70, 74, 77, 81, 84, 88, 91, 95, 98, 102, 105, 110, 113, 117, 120, 124, 127, 131, 134, 138, 141, 145, 148, 152)\n",
      "The number of errors for the ID dataset 995\n",
      "The number of errors for the OOD dataset 5362\n",
      "102 / (3, 6, 10, 13, 17, 20, 24, 27, 31, 34, 38, 41, 45, 48, 52, 55, 60, 63, 67, 70, 74, 77, 81, 84, 88, 91, 95, 98, 102, 105, 110, 113, 117, 120, 124, 127, 131, 134, 138, 141, 145, 148, 152)\n",
      "The number of errors for the ID dataset 976\n",
      "The number of errors for the OOD dataset 3510\n",
      "105 / (3, 6, 10, 13, 17, 20, 24, 27, 31, 34, 38, 41, 45, 48, 52, 55, 60, 63, 67, 70, 74, 77, 81, 84, 88, 91, 95, 98, 102, 105, 110, 113, 117, 120, 124, 127, 131, 134, 138, 141, 145, 148, 152)\n"
     ]
    },
    {
     "name": "stdout",
     "output_type": "stream",
     "text": [
      "The number of errors for the ID dataset 1000\n",
      "The number of errors for the OOD dataset 3777\n",
      "110 / (3, 6, 10, 13, 17, 20, 24, 27, 31, 34, 38, 41, 45, 48, 52, 55, 60, 63, 67, 70, 74, 77, 81, 84, 88, 91, 95, 98, 102, 105, 110, 113, 117, 120, 124, 127, 131, 134, 138, 141, 145, 148, 152)\n",
      "The number of errors for the ID dataset 980\n",
      "The number of errors for the OOD dataset 6058\n",
      "113 / (3, 6, 10, 13, 17, 20, 24, 27, 31, 34, 38, 41, 45, 48, 52, 55, 60, 63, 67, 70, 74, 77, 81, 84, 88, 91, 95, 98, 102, 105, 110, 113, 117, 120, 124, 127, 131, 134, 138, 141, 145, 148, 152)\n",
      "The number of errors for the ID dataset 969\n",
      "The number of errors for the OOD dataset 9447\n",
      "117 / (3, 6, 10, 13, 17, 20, 24, 27, 31, 34, 38, 41, 45, 48, 52, 55, 60, 63, 67, 70, 74, 77, 81, 84, 88, 91, 95, 98, 102, 105, 110, 113, 117, 120, 124, 127, 131, 134, 138, 141, 145, 148, 152)\n",
      "The number of errors for the ID dataset 962\n",
      "The number of errors for the OOD dataset 7038\n",
      "120 / (3, 6, 10, 13, 17, 20, 24, 27, 31, 34, 38, 41, 45, 48, 52, 55, 60, 63, 67, 70, 74, 77, 81, 84, 88, 91, 95, 98, 102, 105, 110, 113, 117, 120, 124, 127, 131, 134, 138, 141, 145, 148, 152)\n",
      "The number of errors for the ID dataset 1018\n",
      "The number of errors for the OOD dataset 9535\n",
      "124 / (3, 6, 10, 13, 17, 20, 24, 27, 31, 34, 38, 41, 45, 48, 52, 55, 60, 63, 67, 70, 74, 77, 81, 84, 88, 91, 95, 98, 102, 105, 110, 113, 117, 120, 124, 127, 131, 134, 138, 141, 145, 148, 152)\n",
      "The number of errors for the ID dataset 974\n",
      "The number of errors for the OOD dataset 8563\n",
      "127 / (3, 6, 10, 13, 17, 20, 24, 27, 31, 34, 38, 41, 45, 48, 52, 55, 60, 63, 67, 70, 74, 77, 81, 84, 88, 91, 95, 98, 102, 105, 110, 113, 117, 120, 124, 127, 131, 134, 138, 141, 145, 148, 152)\n",
      "The number of errors for the ID dataset 989\n",
      "The number of errors for the OOD dataset 9672\n",
      "131 / (3, 6, 10, 13, 17, 20, 24, 27, 31, 34, 38, 41, 45, 48, 52, 55, 60, 63, 67, 70, 74, 77, 81, 84, 88, 91, 95, 98, 102, 105, 110, 113, 117, 120, 124, 127, 131, 134, 138, 141, 145, 148, 152)\n",
      "The number of errors for the ID dataset 991\n",
      "The number of errors for the OOD dataset 9561\n",
      "134 / (3, 6, 10, 13, 17, 20, 24, 27, 31, 34, 38, 41, 45, 48, 52, 55, 60, 63, 67, 70, 74, 77, 81, 84, 88, 91, 95, 98, 102, 105, 110, 113, 117, 120, 124, 127, 131, 134, 138, 141, 145, 148, 152)\n",
      "The number of errors for the ID dataset 3162\n",
      "The number of errors for the OOD dataset 7791\n",
      "138 / (3, 6, 10, 13, 17, 20, 24, 27, 31, 34, 38, 41, 45, 48, 52, 55, 60, 63, 67, 70, 74, 77, 81, 84, 88, 91, 95, 98, 102, 105, 110, 113, 117, 120, 124, 127, 131, 134, 138, 141, 145, 148, 152)\n",
      "The number of errors for the ID dataset 982\n",
      "The number of errors for the OOD dataset 9574\n",
      "141 / (3, 6, 10, 13, 17, 20, 24, 27, 31, 34, 38, 41, 45, 48, 52, 55, 60, 63, 67, 70, 74, 77, 81, 84, 88, 91, 95, 98, 102, 105, 110, 113, 117, 120, 124, 127, 131, 134, 138, 141, 145, 148, 152)\n",
      "The number of errors for the ID dataset 998\n",
      "The number of errors for the OOD dataset 9875\n",
      "145 / (3, 6, 10, 13, 17, 20, 24, 27, 31, 34, 38, 41, 45, 48, 52, 55, 60, 63, 67, 70, 74, 77, 81, 84, 88, 91, 95, 98, 102, 105, 110, 113, 117, 120, 124, 127, 131, 134, 138, 141, 145, 148, 152)\n",
      "The number of errors for the ID dataset 980\n",
      "The number of errors for the OOD dataset 9627\n",
      "148 / (3, 6, 10, 13, 17, 20, 24, 27, 31, 34, 38, 41, 45, 48, 52, 55, 60, 63, 67, 70, 74, 77, 81, 84, 88, 91, 95, 98, 102, 105, 110, 113, 117, 120, 124, 127, 131, 134, 138, 141, 145, 148, 152)\n",
      "The number of errors for the ID dataset 969\n",
      "The number of errors for the OOD dataset 9712\n",
      "152 / (3, 6, 10, 13, 17, 20, 24, 27, 31, 34, 38, 41, 45, 48, 52, 55, 60, 63, 67, 70, 74, 77, 81, 84, 88, 91, 95, 98, 102, 105, 110, 113, 117, 120, 124, 127, 131, 134, 138, 141, 145, 148, 152)\n",
      "The number of errors for the ID dataset 1009\n",
      "The number of errors for the OOD dataset 9606\n"
     ]
    }
   ],
   "source": [
    "auroc=[]\n",
    "detection_error=[]\n",
    "fpr_at_95_tpr=[]\n",
    "lens = test_img_processed.shape[0]\n",
    "\n",
    "for l in slc_layers:\n",
    "    print(l,\"/\",slc_layers)\n",
    "    training_images = get_dataset_hdf5(\"l_\"+str(l), file_address_train)\n",
    "\n",
    "    test_images     = get_dataset_hdf5(\"l_\"+str(l), file_address_test)\n",
    "    ood_images      = get_dataset_hdf5(\"l_\"+str(l), file_address_ood)\n",
    "    clf_mod, ss_mod = build_one_class_svm(training_images,test_images,ood_images,show_eval=False )\n",
    "    #--------------------------------------------------------------------------------------\n",
    "    test_normalized  = ss_mod.transform(test_images)\n",
    "    pred_test = clf_mod.predict(test_normalized)\n",
    "    base_test_n_errors  = pred_test[pred_test == -1].size\n",
    "    print(\"The number of errors for the ID dataset\", base_test_n_errors)\n",
    "    ood_normalized  = ss_mod.transform(ood_images)\n",
    "    pred_ood = clf_mod.predict(ood_normalized)\n",
    "    base_ood_n_errors  = pred_ood[pred_ood == 1].size\n",
    "    print(\"The number of errors for the OOD dataset\", base_ood_n_errors)\n",
    "    #---------------------------------------------------------------------------------------\n",
    "    mix_data, mix_labels = combine_inliners_outliers(test_normalized,ood_normalized)\n",
    "    scores = clf_mod.score_samples(mix_data)\n",
    "    fpr, tpr = nums(scores, mix_labels)\n",
    "    ROC = auc(fpr, tpr)\n",
    "    \n",
    "    FP,TN,TP,FN = ErrorRateAt95Recall1(lens, scores, mix_labels)\n",
    "    \n",
    "#     ROC = roc_auc_score(mix_labels, scores, average='micro', sample_weight=None)\n",
    "    derror = (1.0- float(TP) / float(TP + FN+ 1e-7)+ float(FP) / float(FP + TN+ 1e-7))/2*100\n",
    "    ftp95 = float(FP) / float(FP + TN+ 1e-7) *100\n",
    " \n",
    "    auroc.append(ROC*100)\n",
    "    detection_error.append(derror)\n",
    "    fpr_at_95_tpr.append(ftp95)"
   ]
  },
  {
   "cell_type": "code",
   "execution_count": 25,
   "metadata": {
    "scrolled": false
   },
   "outputs": [
    {
     "data": {
      "image/png": "[encoded data removed]",
      "text/plain": [
       "<Figure size 3096x720 with 3 Axes>"
      ]
     },
     "metadata": {
      "needs_background": "light"
     },
     "output_type": "display_data"
    },
    {
     "name": "stdout",
     "output_type": "stream",
     "text": [
      "The lowest detection error belongs to the layer  20\n"
     ]
    }
   ],
   "source": [
    "x = slc_layers\n",
    "bar_size=0.5\n",
    "row_size = 5\n",
    "figsize=(len(slc_layers),10)\n",
    "fig = plt.figure(1, figsize=figsize)\n",
    "\n",
    "plt.subplot(row_size, 1, 3)\n",
    "plt.bar(x, auroc, width=bar_size, color=\"gray\")\n",
    "plt.ylabel('auroc (%)')\n",
    "plt.xticks(x)\n",
    "\n",
    "plt.subplot(row_size, 1, 4)\n",
    "plt.bar(x, detection_error, width=bar_size, color=\"red\")\n",
    "plt.ylabel('detection_error (%)')\n",
    "plt.xticks(x)\n",
    "\n",
    "plt.subplot(row_size, 1, 5)\n",
    "plt.bar(x, fpr_at_95_tpr, width=bar_size, color=\"green\")\n",
    "plt.ylabel('fpr_at_95_tpr (%)')\n",
    "plt.xticks(x)\n",
    "\n",
    "plt.xlabel('Layers\\n'+\"The lowest detection error belongs to the layer \"+\\\n",
    "                           str(slc_layers[np.argmin(detection_error)]))\n",
    "plt.show()\n",
    "print(\"The lowest detection error belongs to the layer \", str(slc_layers[np.argmin(detection_error)]))\n",
    "fig.savefig(base_address+id_name+\"-\"+id_model+\"-\"+ood_ds_name+\".png\")"
   ]
  },
  {
   "cell_type": "code",
   "execution_count": null,
   "metadata": {},
   "outputs": [],
   "source": []
  },
  {
   "cell_type": "code",
   "execution_count": null,
   "metadata": {},
   "outputs": [],
   "source": []
  }
 ],
 "metadata": {
  "kernelspec": {
   "display_name": "tf-gpu2",
   "language": "python",
   "name": "tf-gpu2"
  },
  "language_info": {
   "codemirror_mode": {
    "name": "ipython",
    "version": 3
   },
   "file_extension": ".py",
   "mimetype": "text/x-python",
   "name": "python",
   "nbconvert_exporter": "python",
   "pygments_lexer": "ipython3",
   "version": "3.6.9"
  }
 },
 "nbformat": 4,
 "nbformat_minor": 2
}
